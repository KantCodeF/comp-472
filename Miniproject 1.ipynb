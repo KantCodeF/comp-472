{
 "cells": [
  {
   "cell_type": "code",
   "execution_count": 32,
   "id": "1ddeedbd",
   "metadata": {
    "scrolled": true
   },
   "outputs": [],
   "source": [
    "import json\n",
    "import numpy as np\n",
    "import gzip\n",
    "import matplotlib.pyplot as plt\n",
    "from sklearn.naive_bayes import MultinomialNB\n",
    "from sklearn.feature_extraction.text import CountVectorizer\n",
    "from sklearn.model_selection import train_test_split\n",
    "from sklearn import tree\n",
    "from sklearn import preprocessing\n",
    "\n",
    "#Part 1.1,1.2 open file and create numpy array for post,emotion and sentiment\n",
    "fJson=gzip.open(\"goemotions.json.gz\")\n",
    "data=json.load(fJson)\n",
    "NumpyArr = np.array(data)\n",
    "\n",
    "   \n",
    "npArr=np.hsplit(NumpyArr,3)\n",
    "#reddit comments\n",
    "x=np.array(npArr[0]).flatten()\n",
    "#emotions\n",
    "y=np.array(npArr[1]).flatten()   \n",
    "#sentiments   \n",
    "z=np.array(npArr[2]).flatten()\n",
    "  \n"
   ]
  },
  {
   "cell_type": "code",
   "execution_count": 8,
   "id": "01628220",
   "metadata": {},
   "outputs": [
    {
     "data": {
      "image/png": "[encoded data removed]",
      "text/plain": [
       "<Figure size 432x288 with 1 Axes>"
      ]
     },
     "metadata": {
      "needs_background": "light"
     },
     "output_type": "display_data"
    },
    {
     "data": {
      "image/png": "[encoded data removed]",
      "text/plain": [
       "<Figure size 432x288 with 1 Axes>"
      ]
     },
     "metadata": {
      "needs_background": "light"
     },
     "output_type": "display_data"
    }
   ],
   "source": [
    "#part 1.3 display histogram of emotion and sentiment to see if data is balanced\n",
    "plt.hist(y,orientation='horizontal')\n",
    "plt.show() \n",
    "\n",
    "plt.hist(z)\n",
    "plt.show()"
   ]
  },
  {
   "cell_type": "code",
   "execution_count": 9,
   "id": "1ad1b870",
   "metadata": {
    "scrolled": true
   },
   "outputs": [
    {
     "name": "stdout",
     "output_type": "stream",
     "text": [
      "[[0 0 0 ... 0 0 0]\n",
      " [0 0 0 ... 0 0 0]\n",
      " [0 0 0 ... 0 0 0]\n",
      " ...\n",
      " [0 0 0 ... 0 0 0]\n",
      " [0 0 0 ... 0 0 0]\n",
      " [0 0 0 ... 0 0 0]]\n",
      "list of words: ['00' '000' '00001' ... '병무청' '카니발' 'ﾉωﾉ']\n",
      "number of tokens/size of the vocabulary: 30449\n"
     ]
    }
   ],
   "source": [
    "#part 2.1 extract vocabulary \n",
    "vectorizer = CountVectorizer()\n",
    "X = vectorizer.fit_transform(x)\n",
    "print(X.toarray())\n",
    "print(\"list of words:\",vectorizer.get_feature_names_out())\n",
    "print(\"number of tokens/size of the vocabulary:\",len(vectorizer.get_feature_names_out()))"
   ]
  },
  {
   "cell_type": "code",
   "execution_count": 21,
   "id": "2717474a",
   "metadata": {},
   "outputs": [
    {
     "name": "stdout",
     "output_type": "stream",
     "text": [
      "['That game hurt.' \"You do right, if you don't care then fuck 'em!\"\n",
      " 'Man I love reddit.' ...\n",
      " \"Nah, that's ArmedForcesUpdate, always good for a laugh\"\n",
      " \"but then you have it stick to your lips and give you one of those cold-sore lookin' burns.\"\n",
      " '[NAME] pnr play has not been good, they are defending jok and letting him get to the rim']\n",
      "['sadness' 'neutral' 'love' ... 'amusement' 'neutral' 'disapproval']\n",
      "['negative' 'neutral' 'positive' ... 'positive' 'neutral' 'negative']\n"
     ]
    }
   ],
   "source": [
    "#part 2.2\n",
    "dataSplitX=train_test_split(x,test_size=0.2,shuffle=False)\n",
    "dataSplitY=train_test_split(y,test_size=0.2, shuffle=False)\n",
    "dataSplitZ=train_test_split(z,test_size=0.2, shuffle=False)\n"
   ]
  },
  {
   "cell_type": "code",
   "execution_count": null,
   "id": "8252d570",
   "metadata": {},
   "outputs": [],
   "source": [
    "tempY=[]\n",
    "tempZ=[]\n",
    "vectorizer = CountVectorizer()\n",
    "Y = vectorizer.fit_transform(y)\n",
    "for emotions in vectorizer.get_feature_names_out():\n",
    "    tempY.append((y==emotions).sum()/y.size)\n",
    "vectorizer = CountVectorizer()\n",
    "Z = vectorizer.fit_transform(z)\n",
    "for sentiment in vectorizer.get_feature_names_out(): \n",
    "    tempZ.append((z==sentiment).sum()/z.size)\n",
    "priorY=np.array(tempY)\n",
    "priorZ=np.array(tempZ)\n",
    "print(\"priorY\",priorY)\n",
    "print(\"pritorZ\",priorZ)"
   ]
  },
  {
   "cell_type": "code",
   "execution_count": 30,
   "id": "68ede3d4",
   "metadata": {},
   "outputs": [
    {
     "name": "stdout",
     "output_type": "stream",
     "text": [
      "accuracy Y 0.3842684204399953\n",
      "accuracy Z 0.5481899662437435\n"
     ]
    }
   ],
   "source": [
    "#2.3.1 base Multinomial Naive bayes classifier\n",
    "vectorizer = CountVectorizer()\n",
    "trainX = vectorizer.fit_transform(dataSplitX[0])\n",
    "\n",
    "#MNB for Emotions\n",
    "classifier = MultinomialNB()\n",
    "model = classifier.fit(trainX,dataSplitY[0])\n",
    "MultinomialNB()\n",
    "count=0\n",
    "for i in range (len(dataSplitX[1])):\n",
    "    post=dataSplitX[1][i]\n",
    "    new_post = vectorizer.transform(np.array([post]))\n",
    "    predict = model.predict(new_post)\n",
    "    if(predict==dataSplitY[1][i]):\n",
    "        count+=1\n",
    "print(\"accuracy emotions:\",count/len(dataSplitX[1]))\n",
    "\n",
    "#MNB for sentiment\n",
    "classifier = MultinomialNB()\n",
    "model = classifier.fit(trainX,dataSplitZ[0])\n",
    "MultinomialNB()\n",
    "count=0\n",
    "for i in range (len(dataSplitX[1])):\n",
    "    post=dataSplitX[1][i]\n",
    "    new_post = vectorizer.transform(np.array([post]))\n",
    "    predict = model.predict(new_post)\n",
    "    if(predict==dataSplitZ[1][i]):\n",
    "        count+=1\n",
    "print(\"accuracy sentiment:\",count/len(dataSplitX[1]))\n"
   ]
  },
  {
   "cell_type": "code",
   "execution_count": 36,
   "id": "5b1d6c6b",
   "metadata": {},
   "outputs": [
    {
     "ename": "IndexError",
     "evalue": "too many indices for array: array is 1-dimensional, but 2 were indexed",
     "output_type": "error",
     "traceback": [
      "\u001b[0;31m---------------------------------------------------------------------------\u001b[0m",
      "\u001b[0;31mIndexError\u001b[0m                                Traceback (most recent call last)",
      "Input \u001b[0;32mIn [36]\u001b[0m, in \u001b[0;36m<cell line: 4>\u001b[0;34m()\u001b[0m\n\u001b[1;32m      3\u001b[0m le \u001b[38;5;241m=\u001b[39m preprocessing\u001b[38;5;241m.\u001b[39mLabelEncoder()\n\u001b[1;32m      4\u001b[0m \u001b[38;5;28;01mfor\u001b[39;00m i \u001b[38;5;129;01min\u001b[39;00m \u001b[38;5;28mrange\u001b[39m(\u001b[38;5;28mlen\u001b[39m(x)):\n\u001b[0;32m----> 5\u001b[0m     x[:, i] \u001b[38;5;241m=\u001b[39m le\u001b[38;5;241m.\u001b[39mfit_transform(\u001b[43mx\u001b[49m\u001b[43m[\u001b[49m\u001b[43m:\u001b[49m\u001b[43m,\u001b[49m\u001b[43m \u001b[49m\u001b[43mi\u001b[49m\u001b[43m]\u001b[49m)\n\u001b[1;32m      6\u001b[0m dataSplitX\u001b[38;5;241m=\u001b[39mtrain_test_split(x,test_size\u001b[38;5;241m=\u001b[39m\u001b[38;5;241m0.2\u001b[39m,shuffle\u001b[38;5;241m=\u001b[39m\u001b[38;5;28;01mFalse\u001b[39;00m)\n\u001b[1;32m      8\u001b[0m dtc \u001b[38;5;241m=\u001b[39m tree\u001b[38;5;241m.\u001b[39mDecisionTreeClassifier()\n",
      "\u001b[0;31mIndexError\u001b[0m: too many indices for array: array is 1-dimensional, but 2 were indexed"
     ]
    }
   ],
   "source": [
    "#2.3.2 base decision tree classifier\n",
    "#decision tree for emotions\n",
    "le = preprocessing.LabelEncoder()\n",
    "for i in range(len(x)):\n",
    "    x[:, i] = le.fit_transform(x[:, i])\n",
    "dataSplitX=train_test_split(x,test_size=0.2,shuffle=False)\n",
    "\n",
    "dtc = tree.DecisionTreeClassifier()\n",
    "dtc.fit(dataSplitX[0], dataSplitY[0])\n",
    "for i in range (len(dataSplitX[1])):\n",
    "    post=dataSplitX[1][i]\n",
    "    new_post = vectorizer.transform(np.array([post]))\n",
    "    predict = model.predict(new_post)\n",
    "    if(predict==dataSplitY[1][i]):\n",
    "        count+=1\n",
    "print(\"accuracy Y\",count/len(dataSplitX[1]))\n",
    "\n",
    "#decision tree for sentiment\n",
    "dtc = tree.DecisionTreeClassifier()\n",
    "dtc.fit(dataSplitX[0], dataSplitZ[0])\n",
    "for i in range (len(dataSplitX[1])):\n",
    "    post=dataSplitX[1][i]\n",
    "    new_post = vectorizer.transform(np.array([post]))\n",
    "    predict = model.predict(new_post)\n",
    "    if(predict==dataSplitZ[1][i]):\n",
    "        count+=1\n",
    "print(\"accuracy Z\",count/len(dataSplitX[1]))"
   ]
  },
  {
   "cell_type": "code",
   "execution_count": null,
   "id": "7428f0c6",
   "metadata": {},
   "outputs": [],
   "source": [
    "#2.3.3 base multilayered perceptron\n",
    "\n"
   ]
  },
  {
   "cell_type": "code",
   "execution_count": null,
   "id": "ca2c1335",
   "metadata": {},
   "outputs": [],
   "source": [
    "#2.3.4 multinomial bayes classifer with gridSearchCV, experiment with hyperParameter alphaFloat\n",
    "\n",
    "\n"
   ]
  },
  {
   "cell_type": "code",
   "execution_count": null,
   "id": "f5c837fd",
   "metadata": {},
   "outputs": [],
   "source": [
    "#2.3.5 decision Tree with gridsearchCV to change \n",
    "#criterion: gini or entropy\n",
    "#• max depth: 2 different values of your choice\n",
    "#• min samples split: 3 different values of your choice\n",
    "\n",
    "\n",
    "\n"
   ]
  },
  {
   "cell_type": "code",
   "execution_count": null,
   "id": "4a30e6ea",
   "metadata": {},
   "outputs": [],
   "source": [
    "#2.3.6 multi layered perceptron using gridsearchCV with experiments on hyperParameter\n",
    "#activation: sigmoid, tanh, relu and identity\n",
    "#2 network architectures of your choice: for eg, 2 hidden layers with 30+ 50 nodes and 3 hidden layers with 10 + 10 + 10\n",
    "# solver: Adam and stochastic gradient descent\n",
    "\n"
   ]
  },
  {
   "cell_type": "code",
   "execution_count": null,
   "id": "13f62fe1",
   "metadata": {},
   "outputs": [],
   "source": [
    "#2.4 create file with performance and confusion matrix for each classifier"
   ]
  },
  {
   "cell_type": "code",
   "execution_count": null,
   "id": "f9e055e9",
   "metadata": {},
   "outputs": [],
   "source": [
    "#2.5 experiment with 1 option:\n"
   ]
  },
  {
   "cell_type": "code",
   "execution_count": null,
   "id": "53dbffa4",
   "metadata": {},
   "outputs": [],
   "source": [
    "#3 embeddings\n"
   ]
  }
 ],
 "metadata": {
  "kernelspec": {
   "display_name": "Python 3 (ipykernel)",
   "language": "python",
   "name": "python3"
  },
  "language_info": {
   "codemirror_mode": {
    "name": "ipython",
    "version": 3
   },
   "file_extension": ".py",
   "mimetype": "text/x-python",
   "name": "python",
   "nbconvert_exporter": "python",
   "pygments_lexer": "ipython3",
   "version": "3.9.12"
  }
 },
 "nbformat": 4,
 "nbformat_minor": 5
}
